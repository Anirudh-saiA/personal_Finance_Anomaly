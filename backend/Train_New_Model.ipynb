{
  "nbformat": 4,
  "nbformat_minor": 0,
  "metadata": {
    "colab": {
      "provenance": []
    },
    "kernelspec": {
      "name": "python3",
      "display_name": "Python 3"
    },
    "language_info": {
      "name": "python"
    }
  },
  "cells": [
    {
      "cell_type": "code",
      "source": [
        "import pandas as pd\n",
        "import numpy as np\n",
        "from sklearn.model_selection import train_test_split\n",
        "from sklearn.ensemble import IsolationForest\n",
        "from sklearn.metrics import classification_report\n",
        "import pickle\n",
        "import os\n",
        "\n",
        "print(\"--- Step 1: Libraries imported. ---\")\n",
        "\n",
        "# --- Step 2: Load Data ---\n",
        "csv_file_name = 'realistic_statement.csv'\n",
        "if not os.path.exists(csv_file_name):\n",
        "    print(f\"ERROR: '{csv_file_name}' not found. Please upload it first.\")\n",
        "else:\n",
        "    df = pd.read_csv(csv_file_name)\n",
        "    print(f\"--- Step 2: Successfully loaded '{csv_file_name}'. ---\")\n",
        "\n",
        "    # --- Step 3: Create Ground Truth Labels ---\n",
        "    known_anomalies = ['Casino Withdrawal', 'Unusual Wire Transfer']\n",
        "    df['is_anomaly_true'] = df['Description'].apply(lambda x: 1 if x in known_anomalies else 0)\n",
        "    print(f\"--- Step 3: Ground truth labels created. ---\")\n",
        "\n",
        "    # --- Step 4: Feature Engineering ---\n",
        "    df['Date'] = pd.to_datetime(df['Date'])\n",
        "    df['day_of_week'] = df['Date'].dt.dayofweek\n",
        "    df['day_of_month'] = df['Date'].dt.day\n",
        "    df['is_weekend'] = (df['Date'].dt.dayofweek >= 5).astype(int)\n",
        "\n",
        "    # Use get_dummies to create the final set of features\n",
        "    df_encoded = pd.get_dummies(df, columns=['Category'], prefix='cat')\n",
        "\n",
        "    # Define the final feature columns\n",
        "    feature_columns = ['Amount', 'day_of_week', 'day_of_month', 'is_weekend'] + [col for col in df_encoded if col.startswith('cat_')]\n",
        "\n",
        "    # Create our final training data, X, with columns in the correct order\n",
        "    X = df_encoded[feature_columns]\n",
        "    y = df_encoded['is_anomaly_true']\n",
        "    print(\"--- Step 4: Feature engineering complete. ---\")\n",
        "\n",
        "    # --- Step 5: Train/Test Split ---\n",
        "    X_train, X_test, y_train, y_test = train_test_split(X, y, test_size=0.3, random_state=42, stratify=y)\n",
        "    print(f\"--- Step 5: Data split complete. ---\")\n",
        "\n",
        "    # --- Step 6: Train the Model ---\n",
        "    model = IsolationForest(n_estimators=100, contamination='auto', random_state=42)\n",
        "    model.fit(X_train)\n",
        "    print(\"--- Step 6: Model training complete. ---\")\n",
        "\n",
        "    # --- Step 7: Evaluate Accuracy ---\n",
        "    predictions_test = model.predict(X_test)\n",
        "    predictions_test_mapped = np.where(predictions_test == -1, 1, 0)\n",
        "    print(\"\\n================== ACCURACY REPORT ==================\\n\")\n",
        "    try:\n",
        "        report = classification_report(y_test, predictions_test_mapped, target_names=['Normal (0)', 'Anomaly (1)'])\n",
        "        print(report)\n",
        "    except Exception as e:\n",
        "        print(f\"Could not generate classification report: {e}\")\n",
        "    print(\"=====================================================\\n\")\n",
        "\n",
        "    # --- Step 8: Save the Model ---\n",
        "    model_filename = 'personal_finance_model.pkl'\n",
        "    with open(model_filename, 'wb') as f:\n",
        "        pickle.dump(model, f)\n",
        "    print(f\"--- Step 8: Model successfully saved to '{model_filename}' ---\")\n",
        "\n",
        "    # --- NEW & CRITICAL Step 9: Save the Feature Column List ---\n",
        "    column_filename = 'model_columns.pkl'\n",
        "    with open(column_filename, 'wb') as f:\n",
        "        pickle.dump(list(X.columns), f)\n",
        "    print(f\"--- Step 9: Model columns successfully saved to '{column_filename}' ---\")\n",
        "\n",
        "    print(\"\\nPROCESS COMPLETE. Please download BOTH 'personal_finance_model.pkl' and 'model_columns.pkl'.\")\n",
        "\n"
      ],
      "metadata": {
        "colab": {
          "base_uri": "https://localhost:8080/"
        },
        "id": "0sDtnO1T5DZs",
        "outputId": "fafa3fd6-3439-4c8e-8b20-28606a50725b"
      },
      "execution_count": 3,
      "outputs": [
        {
          "output_type": "stream",
          "name": "stdout",
          "text": [
            "--- Step 1: Libraries imported. ---\n",
            "--- Step 2: Successfully loaded 'realistic_statement.csv'. ---\n",
            "--- Step 3: Ground truth labels created. ---\n",
            "--- Step 4: Feature engineering complete. ---\n",
            "--- Step 5: Data split complete. ---\n",
            "--- Step 6: Model training complete. ---\n",
            "\n",
            "================== ACCURACY REPORT ==================\n",
            "\n",
            "              precision    recall  f1-score   support\n",
            "\n",
            "  Normal (0)       0.83      0.71      0.77         7\n",
            " Anomaly (1)       0.00      0.00      0.00         1\n",
            "\n",
            "    accuracy                           0.62         8\n",
            "   macro avg       0.42      0.36      0.38         8\n",
            "weighted avg       0.73      0.62      0.67         8\n",
            "\n",
            "=====================================================\n",
            "\n",
            "--- Step 8: Model successfully saved to 'personal_finance_model.pkl' ---\n",
            "--- Step 9: Model columns successfully saved to 'model_columns.pkl' ---\n",
            "\n",
            "PROCESS COMPLETE. Please download BOTH 'personal_finance_model.pkl' and 'model_columns.pkl'.\n"
          ]
        }
      ]
    },
    {
      "cell_type": "code",
      "source": [],
      "metadata": {
        "id": "z4-hYLLg95Z7"
      },
      "execution_count": null,
      "outputs": []
    }
  ]
}